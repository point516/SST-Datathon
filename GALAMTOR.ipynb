{
  "nbformat": 4,
  "nbformat_minor": 0,
  "metadata": {
    "colab": {
      "provenance": [],
      "collapsed_sections": [
        "1U2mssK_jS6n"
      ]
    },
    "kernelspec": {
      "name": "python3",
      "display_name": "Python 3"
    },
    "language_info": {
      "name": "python"
    },
    "gpuClass": "standard",
    "accelerator": "GPU"
  },
  "cells": [
    {
      "cell_type": "code",
      "execution_count": 2,
      "metadata": {
        "colab": {
          "base_uri": "https://localhost:8080/"
        },
        "id": "QzAvcroKMLUH",
        "outputId": "d2b7620c-1474-4813-8cf9-1a047c59b1f6"
      },
      "outputs": [
        {
          "output_type": "stream",
          "name": "stdout",
          "text": [
            "Mounted at /content/drive\n"
          ]
        }
      ],
      "source": [
        "from google.colab import drive\n",
        "drive.mount('/content/drive')"
      ]
    },
    {
      "cell_type": "code",
      "source": [
        "import matplotlib.pyplot as plt\n",
        "import numpy as np\n",
        "import pandas as pd\n",
        "import cv2\n",
        "import tensorflow as tf\n",
        "from tensorflow.keras.preprocessing.image import ImageDataGenerator\n",
        "from tqdm import tqdm\n",
        "import os\n",
        "from sklearn.utils import shuffle\n",
        "from sklearn.model_selection import train_test_split\n",
        "from tensorflow.keras.applications import EfficientNetB0\n",
        "from tensorflow.keras.applications import Xception\n",
        "from tensorflow.keras.applications import InceptionV3\n",
        "from tensorflow.keras.applications import ResNet50\n",
        "from tensorflow.keras.applications import VGG16\n",
        "from tensorflow.keras.applications import MobileNet\n",
        "from tensorflow.keras.applications import DenseNet201\n",
        "from tensorflow.keras.callbacks import EarlyStopping, ReduceLROnPlateau, TensorBoard, ModelCheckpoint\n",
        "from sklearn.metrics import classification_report,confusion_matrix\n",
        "import io\n",
        "from keras.models import Model\n",
        "from sklearn.manifold import TSNE\n",
        "from tensorflow.keras.applications.vgg19 import VGG19\n",
        "from sklearn.decomposition import PCA\n",
        "from sklearn.metrics import f1_score, accuracy_score\n",
        "import random\n",
        "from sklearn.model_selection import train_test_split"
      ],
      "metadata": {
        "id": "Re8XeX6zMo9i"
      },
      "execution_count": 8,
      "outputs": []
    },
    {
      "cell_type": "code",
      "source": [
        "csv = pd.read_csv('/content/drive/Shareddrives/dataton/train_labels.csv', header=None)"
      ],
      "metadata": {
        "id": "mqER-gGQP51s"
      },
      "execution_count": null,
      "outputs": []
    },
    {
      "cell_type": "code",
      "source": [
        "numpy_csv = csv.to_numpy()"
      ],
      "metadata": {
        "id": "8xoZh53oRy6d"
      },
      "execution_count": null,
      "outputs": []
    },
    {
      "cell_type": "code",
      "source": [
        "files = numpy_csv[:,0]\n",
        "labels = numpy_csv[:,1]"
      ],
      "metadata": {
        "id": "t2eSc5rdUcOd"
      },
      "execution_count": null,
      "outputs": []
    },
    {
      "cell_type": "markdown",
      "source": [
        "#read new dataset and save as numpy\n"
      ],
      "metadata": {
        "id": "bkxIsLpVxavm"
      }
    },
    {
      "cell_type": "code",
      "source": [
        "X_train = []\n",
        "y_train = []\n",
        "\n",
        "image_size = 224\n",
        "folderPath = os.path.join('/content/drive/Shareddrives/dataton/train_imgs') #define the filepath to the directory with images\n",
        "\n",
        "for i in range(len(files)):\n",
        "  print(os.path.join(folderPath,files[i]))\n",
        "  img = plt.imread(os.path.join(folderPath,files[i]))\n",
        "  img = cv2.resize(img,(image_size, image_size))\n",
        "  X_train.append(img)\n",
        "  y_train.append(labels[i])"
      ],
      "metadata": {
        "id": "Yj0zRuQLUHS6"
      },
      "execution_count": null,
      "outputs": []
    },
    {
      "cell_type": "code",
      "source": [
        "X_train = np.array(X_train)\n",
        "y_train = np.array(y_train)"
      ],
      "metadata": {
        "id": "v9gOW18emjjG"
      },
      "execution_count": null,
      "outputs": []
    },
    {
      "cell_type": "code",
      "source": [
        "BASE_DIR = '/content/drive/Shareddrives/dataton/' #Choose directory to save dataset\n",
        "run_save = True\n",
        "if run_save:\n",
        "    with open(BASE_DIR + \"train_set.npy\", 'wb') as f:\n",
        "      np.save(f, X_train)\n",
        "      np.save(f, y_train)"
      ],
      "metadata": {
        "id": "xJYZuQd-sq9U"
      },
      "execution_count": null,
      "outputs": []
    },
    {
      "cell_type": "markdown",
      "source": [
        "# download preloaded dataset"
      ],
      "metadata": {
        "id": "tL6jdYUFwHrS"
      }
    },
    {
      "cell_type": "code",
      "source": [
        "BASE_DIR = '/content/drive/Shareddrives/dataton/' #filepath to preloaded dataset\n",
        "run_save = True\n",
        "\n",
        "with open(BASE_DIR + \"train_set_dontchange.npy\", 'rb') as f:\n",
        "    X_train = np.load(f, allow_pickle=True)\n",
        "    y_train = np.load(f, allow_pickle=True)\n",
        "\n",
        "y_train = y_train.reshape((-1,1))"
      ],
      "metadata": {
        "id": "E6M-5CcKwGzF"
      },
      "execution_count": 46,
      "outputs": []
    },
    {
      "cell_type": "markdown",
      "source": [
        "#split_data"
      ],
      "metadata": {
        "id": "TFfXVeeNx_kw"
      }
    },
    {
      "cell_type": "code",
      "source": [
        "train_X, val_X, train_y, val_y = train_test_split(X_train, y_train, train_size=0.88, shuffle=True, random_state=7)\n",
        "\n",
        "print(train_X.shape)\n",
        "print(val_X.shape)"
      ],
      "metadata": {
        "colab": {
          "base_uri": "https://localhost:8080/"
        },
        "id": "D9Fne1X9WlW-",
        "outputId": "23aab400-6b3a-4af5-8105-8b420e716af4"
      },
      "execution_count": 47,
      "outputs": [
        {
          "output_type": "stream",
          "name": "stdout",
          "text": [
            "(2304, 224, 224, 3)\n",
            "(315, 224, 224, 3)\n"
          ]
        }
      ]
    },
    {
      "cell_type": "markdown",
      "source": [
        "# Augment"
      ],
      "metadata": {
        "id": "x16mNcuvT2aK"
      }
    },
    {
      "cell_type": "code",
      "source": [
        "datagen = ImageDataGenerator(rotation_range = 30, \n",
        "                             zoom_range = 0.3, \n",
        "                             #width_shift_range=0.15, \n",
        "                             #height_shift_range=0.15,\n",
        "                             shear_range = 0.2,\n",
        "                             horizontal_flip=True,\n",
        "                             vertical_flip=False,\n",
        "                             brightness_range = [0.5,1.5],\n",
        "                             fill_mode = 'wrap')"
      ],
      "metadata": {
        "id": "Arwu3J1uT9Cb"
      },
      "execution_count": 48,
      "outputs": []
    },
    {
      "cell_type": "code",
      "source": [
        "idx = np.where(train_y == 0)[0]\n",
        "choices = random.choices(idx, k=500)\n",
        "\n",
        "\n",
        "aug_iter = datagen.flow(train_X[choices], train_y[choices], batch_size=50)\n",
        "\n",
        "for i in range(10):\n",
        "  aug_img = next(aug_iter)\n",
        "  train_X = np.append(train_X, aug_img[0], axis=0)\n",
        "  train_y = np.append(train_y, aug_img[1], axis=0)\n",
        "\n",
        "print(train_X.shape)"
      ],
      "metadata": {
        "colab": {
          "base_uri": "https://localhost:8080/"
        },
        "id": "Mgp09oL1eHkV",
        "outputId": "925bccd9-fa99-44f8-add6-0c164067df26"
      },
      "execution_count": 49,
      "outputs": [
        {
          "output_type": "stream",
          "name": "stdout",
          "text": [
            "(2804, 224, 224, 3)\n"
          ]
        }
      ]
    },
    {
      "cell_type": "markdown",
      "source": [
        "#Model"
      ],
      "metadata": {
        "id": "SkbxhQk_IkYm"
      }
    },
    {
      "cell_type": "code",
      "source": [
        "def get_model():\n",
        "  effnet = EfficientNetB0(weights='imagenet',include_top=False,input_shape=(224 ,224 ,3))\n",
        "  model = effnet.output\n",
        "  model = tf.keras.layers.GlobalMaxPooling2D()(model)\n",
        "  model = tf.keras.layers.Dropout(rate=0.5)(model)\n",
        "  model = tf.keras.layers.Dense(1,activation='sigmoid')(model)\n",
        "  model = tf.keras.models.Model(inputs=effnet.input, outputs = model)\n",
        "  model.compile(loss='binary_crossentropy',optimizer = 'Adam', metrics= ['accuracy'])\n",
        "  return model"
      ],
      "metadata": {
        "id": "ksAiBZPDqVlY"
      },
      "execution_count": 52,
      "outputs": []
    },
    {
      "cell_type": "code",
      "source": [
        "tensorboard = TensorBoard(log_dir = 'logs')\n",
        "#choose directory to save best model\n",
        "checkpoint = ModelCheckpoint(\"/content/drive/MyDrive/hackathon/effnet.h5\",monitor=\"val_accuracy\",save_best_only=True,mode=\"auto\",verbose=1) \n",
        "reduce_lr = ReduceLROnPlateau(monitor = 'val_accuracy', factor = 0.3, patience = 2, min_delta = 0.001,\n",
        "                              mode='auto',verbose=1)"
      ],
      "metadata": {
        "id": "c_LigTqTrWvg"
      },
      "execution_count": 53,
      "outputs": []
    },
    {
      "cell_type": "code",
      "source": [
        "model = get_model()\n",
        "\n",
        "train_X, train_y = shuffle(train_X, train_y, random_state=101)\n",
        "\n",
        "history = model.fit(train_X, train_y, validation_data = (val_X, val_y), epochs = 12, verbose=1, batch_size=32,\n",
        "                   callbacks=[tensorboard,checkpoint,reduce_lr])"
      ],
      "metadata": {
        "colab": {
          "base_uri": "https://localhost:8080/"
        },
        "id": "bAOgzTAhrkgy",
        "outputId": "51bf4eae-eabf-4f31-d67d-49f9de68eec1"
      },
      "execution_count": 54,
      "outputs": [
        {
          "output_type": "stream",
          "name": "stdout",
          "text": [
            "Epoch 1/12\n",
            "88/88 [==============================] - ETA: 0s - loss: 0.2790 - accuracy: 0.9440\n",
            "Epoch 1: val_accuracy improved from -inf to 0.98095, saving model to /content/drive/MyDrive/hackathon/effnet.h5\n",
            "88/88 [==============================] - 41s 360ms/step - loss: 0.2790 - accuracy: 0.9440 - val_loss: 0.0643 - val_accuracy: 0.9810 - lr: 0.0010\n",
            "Epoch 2/12\n",
            "88/88 [==============================] - ETA: 0s - loss: 0.0767 - accuracy: 0.9797\n",
            "Epoch 2: val_accuracy improved from 0.98095 to 0.99048, saving model to /content/drive/MyDrive/hackathon/effnet.h5\n",
            "88/88 [==============================] - 30s 342ms/step - loss: 0.0767 - accuracy: 0.9797 - val_loss: 0.0377 - val_accuracy: 0.9905 - lr: 0.0010\n",
            "Epoch 3/12\n",
            "88/88 [==============================] - ETA: 0s - loss: 0.0198 - accuracy: 0.9939\n",
            "Epoch 3: val_accuracy improved from 0.99048 to 0.99365, saving model to /content/drive/MyDrive/hackathon/effnet.h5\n",
            "88/88 [==============================] - 30s 337ms/step - loss: 0.0198 - accuracy: 0.9939 - val_loss: 0.0130 - val_accuracy: 0.9937 - lr: 0.0010\n",
            "Epoch 4/12\n",
            "88/88 [==============================] - ETA: 0s - loss: 0.0108 - accuracy: 0.9971\n",
            "Epoch 4: val_accuracy did not improve from 0.99365\n",
            "88/88 [==============================] - 28s 317ms/step - loss: 0.0108 - accuracy: 0.9971 - val_loss: 0.0176 - val_accuracy: 0.9937 - lr: 0.0010\n",
            "Epoch 5/12\n",
            "88/88 [==============================] - ETA: 0s - loss: 0.0117 - accuracy: 0.9961\n",
            "Epoch 5: val_accuracy did not improve from 0.99365\n",
            "\n",
            "Epoch 5: ReduceLROnPlateau reducing learning rate to 0.0003000000142492354.\n",
            "88/88 [==============================] - 28s 316ms/step - loss: 0.0117 - accuracy: 0.9961 - val_loss: 0.0280 - val_accuracy: 0.9937 - lr: 0.0010\n",
            "Epoch 6/12\n",
            "88/88 [==============================] - ETA: 0s - loss: 0.0021 - accuracy: 0.9996\n",
            "Epoch 6: val_accuracy did not improve from 0.99365\n",
            "88/88 [==============================] - 28s 316ms/step - loss: 0.0021 - accuracy: 0.9996 - val_loss: 0.0302 - val_accuracy: 0.9937 - lr: 3.0000e-04\n",
            "Epoch 7/12\n",
            "88/88 [==============================] - ETA: 0s - loss: 0.0063 - accuracy: 0.9989\n",
            "Epoch 7: val_accuracy did not improve from 0.99365\n",
            "\n",
            "Epoch 7: ReduceLROnPlateau reducing learning rate to 9.000000427477062e-05.\n",
            "88/88 [==============================] - 28s 321ms/step - loss: 0.0063 - accuracy: 0.9989 - val_loss: 0.0309 - val_accuracy: 0.9873 - lr: 3.0000e-04\n",
            "Epoch 8/12\n",
            "88/88 [==============================] - ETA: 0s - loss: 0.0035 - accuracy: 0.9993\n",
            "Epoch 8: val_accuracy did not improve from 0.99365\n",
            "88/88 [==============================] - 28s 319ms/step - loss: 0.0035 - accuracy: 0.9993 - val_loss: 0.0291 - val_accuracy: 0.9905 - lr: 9.0000e-05\n",
            "Epoch 9/12\n",
            "88/88 [==============================] - ETA: 0s - loss: 0.0024 - accuracy: 0.9993\n",
            "Epoch 9: val_accuracy did not improve from 0.99365\n",
            "\n",
            "Epoch 9: ReduceLROnPlateau reducing learning rate to 2.700000040931627e-05.\n",
            "88/88 [==============================] - 28s 323ms/step - loss: 0.0024 - accuracy: 0.9993 - val_loss: 0.0251 - val_accuracy: 0.9905 - lr: 9.0000e-05\n",
            "Epoch 10/12\n",
            "88/88 [==============================] - ETA: 0s - loss: 0.0030 - accuracy: 0.9993\n",
            "Epoch 10: val_accuracy did not improve from 0.99365\n",
            "88/88 [==============================] - 28s 323ms/step - loss: 0.0030 - accuracy: 0.9993 - val_loss: 0.0250 - val_accuracy: 0.9905 - lr: 2.7000e-05\n",
            "Epoch 11/12\n",
            "88/88 [==============================] - ETA: 0s - loss: 0.0040 - accuracy: 0.9982\n",
            "Epoch 11: val_accuracy did not improve from 0.99365\n",
            "\n",
            "Epoch 11: ReduceLROnPlateau reducing learning rate to 8.100000013655517e-06.\n",
            "88/88 [==============================] - 28s 319ms/step - loss: 0.0040 - accuracy: 0.9982 - val_loss: 0.0275 - val_accuracy: 0.9873 - lr: 2.7000e-05\n",
            "Epoch 12/12\n",
            "88/88 [==============================] - ETA: 0s - loss: 8.8142e-04 - accuracy: 1.0000\n",
            "Epoch 12: val_accuracy did not improve from 0.99365\n",
            "88/88 [==============================] - 28s 320ms/step - loss: 8.8142e-04 - accuracy: 1.0000 - val_loss: 0.0273 - val_accuracy: 0.9905 - lr: 8.1000e-06\n"
          ]
        }
      ]
    },
    {
      "cell_type": "code",
      "source": [
        "model=tf.keras.models.load_model(\"/content/drive/Shareddrives/dataton/final_effnet.h5\")"
      ],
      "metadata": {
        "id": "wkIgb4Am0wCL"
      },
      "execution_count": 56,
      "outputs": []
    },
    {
      "cell_type": "code",
      "source": [
        "model.evaluate(val_X, val_y)"
      ],
      "metadata": {
        "colab": {
          "base_uri": "https://localhost:8080/"
        },
        "id": "kV3NYJV7ylSt",
        "outputId": "f350433b-1be5-4a61-b178-d1f057a1df95"
      },
      "execution_count": 62,
      "outputs": [
        {
          "output_type": "stream",
          "name": "stdout",
          "text": [
            "10/10 [==============================] - 1s 63ms/step - loss: 0.0410 - accuracy: 0.9937\n"
          ]
        },
        {
          "output_type": "execute_result",
          "data": {
            "text/plain": [
              "[0.04100771248340607, 0.9936507940292358]"
            ]
          },
          "metadata": {},
          "execution_count": 62
        }
      ]
    },
    {
      "cell_type": "code",
      "source": [
        "pre=model.predict(val_X)"
      ],
      "metadata": {
        "colab": {
          "base_uri": "https://localhost:8080/"
        },
        "id": "1fG0rK-W4dga",
        "outputId": "e80893b6-24e2-4586-b476-13754f782604"
      },
      "execution_count": 63,
      "outputs": [
        {
          "output_type": "stream",
          "name": "stdout",
          "text": [
            "10/10 [==============================] - 2s 61ms/step\n"
          ]
        }
      ]
    },
    {
      "cell_type": "code",
      "source": [
        "pre=[int(i>0.5) for i in pre]"
      ],
      "metadata": {
        "id": "TwrZkoO67bGp"
      },
      "execution_count": 64,
      "outputs": []
    },
    {
      "cell_type": "code",
      "source": [
        "f1_score(val_y, pre, average=None)"
      ],
      "metadata": {
        "colab": {
          "base_uri": "https://localhost:8080/"
        },
        "id": "If4YPhJK3Kdp",
        "outputId": "4b3a92a5-7ce9-43f7-e602-a4f052acb9f3"
      },
      "execution_count": 66,
      "outputs": [
        {
          "output_type": "execute_result",
          "data": {
            "text/plain": [
              "array([0.99280576, 0.99431818])"
            ]
          },
          "metadata": {},
          "execution_count": 66
        }
      ]
    },
    {
      "cell_type": "code",
      "source": [
        "confusion_matrix(val_y,pre)"
      ],
      "metadata": {
        "colab": {
          "base_uri": "https://localhost:8080/"
        },
        "id": "liWkoWk_18uD",
        "outputId": "4dfc6f1e-1ac2-43d7-9cb3-83985f5b4691"
      },
      "execution_count": 67,
      "outputs": [
        {
          "output_type": "execute_result",
          "data": {
            "text/plain": [
              "array([[138,   1],\n",
              "       [  1, 175]])"
            ]
          },
          "metadata": {},
          "execution_count": 67
        }
      ]
    },
    {
      "cell_type": "markdown",
      "source": [
        "#write predictions to csv"
      ],
      "metadata": {
        "id": "M57eLqeGIo-y"
      }
    },
    {
      "cell_type": "code",
      "source": [
        "%cd /content/drive/Shareddrives/dataton/test_imgs/ "
      ],
      "metadata": {
        "colab": {
          "base_uri": "https://localhost:8080/"
        },
        "id": "dHC8zVEYGfz7",
        "outputId": "6cb832e1-e2ac-4123-e62f-6629462a25af"
      },
      "execution_count": 69,
      "outputs": [
        {
          "output_type": "stream",
          "name": "stdout",
          "text": [
            "/content/drive/Shareddrives/dataton/test_imgs\n"
          ]
        }
      ]
    },
    {
      "cell_type": "code",
      "source": [
        "photos = !ls"
      ],
      "metadata": {
        "id": "Dk7TIQ8BGq_S"
      },
      "execution_count": 70,
      "outputs": []
    },
    {
      "cell_type": "code",
      "source": [
        "names=[]\n",
        "for i in photos:\n",
        "  n=i.split()\n",
        "  names+=n"
      ],
      "metadata": {
        "id": "b9ZNxomMG49D"
      },
      "execution_count": 72,
      "outputs": []
    },
    {
      "cell_type": "code",
      "source": [
        "image_size = 224\n",
        "folderPath = os.path.join('/content/drive/Shareddrives/dataton/test_imgs') #folder with test images\n",
        "\n",
        "with open('/content/drive/Shareddrives/dataton/test_labels.csv', 'w') as f:\n",
        "\n",
        "  for i in range(len(names)):\n",
        "    img = plt.imread(os.path.join(folderPath,names[i]))\n",
        "    img = cv2.resize(img,(image_size, image_size))\n",
        "    labell=model.predict(np.expand_dims(img,0), verbose=0)\n",
        "    print(\"processing image\",i+1)\n",
        "    labell=int(labell>0.5)\n",
        "    f.write(names[i]+','+str(labell)+'\\n')"
      ],
      "metadata": {
        "colab": {
          "base_uri": "https://localhost:8080/"
        },
        "id": "paZUJmgY_yEY",
        "outputId": "94ae89e6-f307-4518-8ce3-2342e1985382"
      },
      "execution_count": 74,
      "outputs": [
        {
          "output_type": "stream",
          "name": "stdout",
          "text": [
            "processing image 1\n",
            "processing image 2\n",
            "processing image 3\n",
            "processing image 4\n",
            "processing image 5\n",
            "processing image 6\n",
            "processing image 7\n",
            "processing image 8\n",
            "processing image 9\n",
            "processing image 10\n",
            "processing image 11\n",
            "processing image 12\n",
            "processing image 13\n",
            "processing image 14\n",
            "processing image 15\n",
            "processing image 16\n",
            "processing image 17\n",
            "processing image 18\n",
            "processing image 19\n",
            "processing image 20\n",
            "processing image 21\n",
            "processing image 22\n",
            "processing image 23\n",
            "processing image 24\n",
            "processing image 25\n",
            "processing image 26\n",
            "processing image 27\n",
            "processing image 28\n",
            "processing image 29\n",
            "processing image 30\n",
            "processing image 31\n",
            "processing image 32\n",
            "processing image 33\n",
            "processing image 34\n",
            "processing image 35\n",
            "processing image 36\n",
            "processing image 37\n",
            "processing image 38\n",
            "processing image 39\n",
            "processing image 40\n",
            "processing image 41\n",
            "processing image 42\n",
            "processing image 43\n",
            "processing image 44\n",
            "processing image 45\n",
            "processing image 46\n",
            "processing image 47\n",
            "processing image 48\n",
            "processing image 49\n",
            "processing image 50\n",
            "processing image 51\n",
            "processing image 52\n",
            "processing image 53\n",
            "processing image 54\n",
            "processing image 55\n",
            "processing image 56\n",
            "processing image 57\n",
            "processing image 58\n",
            "processing image 59\n",
            "processing image 60\n",
            "processing image 61\n",
            "processing image 62\n",
            "processing image 63\n",
            "processing image 64\n",
            "processing image 65\n",
            "processing image 66\n",
            "processing image 67\n",
            "processing image 68\n",
            "processing image 69\n",
            "processing image 70\n",
            "processing image 71\n",
            "processing image 72\n",
            "processing image 73\n",
            "processing image 74\n",
            "processing image 75\n",
            "processing image 76\n",
            "processing image 77\n",
            "processing image 78\n",
            "processing image 79\n",
            "processing image 80\n",
            "processing image 81\n",
            "processing image 82\n",
            "processing image 83\n",
            "processing image 84\n",
            "processing image 85\n",
            "processing image 86\n",
            "processing image 87\n",
            "processing image 88\n",
            "processing image 89\n",
            "processing image 90\n",
            "processing image 91\n",
            "processing image 92\n",
            "processing image 93\n",
            "processing image 94\n",
            "processing image 95\n",
            "processing image 96\n",
            "processing image 97\n",
            "processing image 98\n",
            "processing image 99\n",
            "processing image 100\n",
            "processing image 101\n",
            "processing image 102\n",
            "processing image 103\n",
            "processing image 104\n",
            "processing image 105\n",
            "processing image 106\n",
            "processing image 107\n",
            "processing image 108\n",
            "processing image 109\n",
            "processing image 110\n",
            "processing image 111\n",
            "processing image 112\n",
            "processing image 113\n",
            "processing image 114\n",
            "processing image 115\n",
            "processing image 116\n",
            "processing image 117\n",
            "processing image 118\n",
            "processing image 119\n",
            "processing image 120\n",
            "processing image 121\n",
            "processing image 122\n",
            "processing image 123\n",
            "processing image 124\n",
            "processing image 125\n",
            "processing image 126\n",
            "processing image 127\n",
            "processing image 128\n",
            "processing image 129\n",
            "processing image 130\n",
            "processing image 131\n",
            "processing image 132\n",
            "processing image 133\n",
            "processing image 134\n",
            "processing image 135\n",
            "processing image 136\n",
            "processing image 137\n",
            "processing image 138\n",
            "processing image 139\n",
            "processing image 140\n",
            "processing image 141\n",
            "processing image 142\n",
            "processing image 143\n",
            "processing image 144\n",
            "processing image 145\n",
            "processing image 146\n",
            "processing image 147\n",
            "processing image 148\n",
            "processing image 149\n",
            "processing image 150\n",
            "processing image 151\n",
            "processing image 152\n",
            "processing image 153\n",
            "processing image 154\n",
            "processing image 155\n",
            "processing image 156\n",
            "processing image 157\n",
            "processing image 158\n",
            "processing image 159\n",
            "processing image 160\n",
            "processing image 161\n",
            "processing image 162\n",
            "processing image 163\n",
            "processing image 164\n",
            "processing image 165\n",
            "processing image 166\n",
            "processing image 167\n",
            "processing image 168\n",
            "processing image 169\n",
            "processing image 170\n",
            "processing image 171\n",
            "processing image 172\n",
            "processing image 173\n",
            "processing image 174\n",
            "processing image 175\n",
            "processing image 176\n",
            "processing image 177\n",
            "processing image 178\n",
            "processing image 179\n",
            "processing image 180\n",
            "processing image 181\n",
            "processing image 182\n",
            "processing image 183\n",
            "processing image 184\n",
            "processing image 185\n",
            "processing image 186\n",
            "processing image 187\n",
            "processing image 188\n",
            "processing image 189\n",
            "processing image 190\n",
            "processing image 191\n",
            "processing image 192\n",
            "processing image 193\n",
            "processing image 194\n",
            "processing image 195\n",
            "processing image 196\n",
            "processing image 197\n",
            "processing image 198\n",
            "processing image 199\n",
            "processing image 200\n",
            "processing image 201\n",
            "processing image 202\n",
            "processing image 203\n",
            "processing image 204\n",
            "processing image 205\n",
            "processing image 206\n",
            "processing image 207\n",
            "processing image 208\n",
            "processing image 209\n",
            "processing image 210\n",
            "processing image 211\n",
            "processing image 212\n",
            "processing image 213\n",
            "processing image 214\n",
            "processing image 215\n",
            "processing image 216\n",
            "processing image 217\n",
            "processing image 218\n",
            "processing image 219\n",
            "processing image 220\n",
            "processing image 221\n",
            "processing image 222\n",
            "processing image 223\n",
            "processing image 224\n",
            "processing image 225\n",
            "processing image 226\n",
            "processing image 227\n",
            "processing image 228\n",
            "processing image 229\n",
            "processing image 230\n",
            "processing image 231\n",
            "processing image 232\n",
            "processing image 233\n",
            "processing image 234\n",
            "processing image 235\n",
            "processing image 236\n",
            "processing image 237\n",
            "processing image 238\n",
            "processing image 239\n",
            "processing image 240\n",
            "processing image 241\n",
            "processing image 242\n",
            "processing image 243\n",
            "processing image 244\n",
            "processing image 245\n",
            "processing image 246\n",
            "processing image 247\n",
            "processing image 248\n",
            "processing image 249\n",
            "processing image 250\n",
            "processing image 251\n",
            "processing image 252\n",
            "processing image 253\n",
            "processing image 254\n",
            "processing image 255\n",
            "processing image 256\n",
            "processing image 257\n",
            "processing image 258\n",
            "processing image 259\n",
            "processing image 260\n",
            "processing image 261\n",
            "processing image 262\n",
            "processing image 263\n",
            "processing image 264\n",
            "processing image 265\n",
            "processing image 266\n",
            "processing image 267\n",
            "processing image 268\n",
            "processing image 269\n",
            "processing image 270\n",
            "processing image 271\n",
            "processing image 272\n",
            "processing image 273\n",
            "processing image 274\n",
            "processing image 275\n",
            "processing image 276\n",
            "processing image 277\n",
            "processing image 278\n",
            "processing image 279\n",
            "processing image 280\n",
            "processing image 281\n",
            "processing image 282\n",
            "processing image 283\n",
            "processing image 284\n",
            "processing image 285\n",
            "processing image 286\n",
            "processing image 287\n",
            "processing image 288\n",
            "processing image 289\n",
            "processing image 290\n",
            "processing image 291\n",
            "processing image 292\n",
            "processing image 293\n",
            "processing image 294\n",
            "processing image 295\n",
            "processing image 296\n",
            "processing image 297\n",
            "processing image 298\n",
            "processing image 299\n",
            "processing image 300\n",
            "processing image 301\n",
            "processing image 302\n",
            "processing image 303\n",
            "processing image 304\n",
            "processing image 305\n",
            "processing image 306\n",
            "processing image 307\n",
            "processing image 308\n",
            "processing image 309\n",
            "processing image 310\n",
            "processing image 311\n",
            "processing image 312\n",
            "processing image 313\n",
            "processing image 314\n",
            "processing image 315\n",
            "processing image 316\n",
            "processing image 317\n",
            "processing image 318\n",
            "processing image 319\n",
            "processing image 320\n",
            "processing image 321\n",
            "processing image 322\n",
            "processing image 323\n",
            "processing image 324\n",
            "processing image 325\n",
            "processing image 326\n",
            "processing image 327\n",
            "processing image 328\n",
            "processing image 329\n",
            "processing image 330\n",
            "processing image 331\n",
            "processing image 332\n",
            "processing image 333\n",
            "processing image 334\n",
            "processing image 335\n",
            "processing image 336\n",
            "processing image 337\n",
            "processing image 338\n",
            "processing image 339\n",
            "processing image 340\n",
            "processing image 341\n",
            "processing image 342\n",
            "processing image 343\n",
            "processing image 344\n",
            "processing image 345\n",
            "processing image 346\n",
            "processing image 347\n",
            "processing image 348\n",
            "processing image 349\n",
            "processing image 350\n",
            "processing image 351\n",
            "processing image 352\n",
            "processing image 353\n",
            "processing image 354\n",
            "processing image 355\n",
            "processing image 356\n",
            "processing image 357\n",
            "processing image 358\n",
            "processing image 359\n",
            "processing image 360\n",
            "processing image 361\n",
            "processing image 362\n",
            "processing image 363\n",
            "processing image 364\n",
            "processing image 365\n",
            "processing image 366\n",
            "processing image 367\n",
            "processing image 368\n",
            "processing image 369\n",
            "processing image 370\n",
            "processing image 371\n",
            "processing image 372\n",
            "processing image 373\n",
            "processing image 374\n",
            "processing image 375\n",
            "processing image 376\n",
            "processing image 377\n",
            "processing image 378\n",
            "processing image 379\n",
            "processing image 380\n",
            "processing image 381\n",
            "processing image 382\n",
            "processing image 383\n",
            "processing image 384\n",
            "processing image 385\n",
            "processing image 386\n",
            "processing image 387\n",
            "processing image 388\n",
            "processing image 389\n",
            "processing image 390\n",
            "processing image 391\n",
            "processing image 392\n",
            "processing image 393\n",
            "processing image 394\n",
            "processing image 395\n",
            "processing image 396\n",
            "processing image 397\n",
            "processing image 398\n",
            "processing image 399\n",
            "processing image 400\n"
          ]
        }
      ]
    }
  ]
}